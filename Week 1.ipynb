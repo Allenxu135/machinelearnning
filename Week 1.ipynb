{
 "cells": [
  {
   "cell_type": "markdown",
   "metadata": {},
   "source": [
    "# Introduction\n",
    "\n",
    "We will be using the scikit-learn library (Python) in our lab sessions throughout the term - https://scikit-learn.org/stable/. It is one of the well-used machine learning libraries. In today's lab, the goal is to familiarize yourself with the scikit-learn library as well as numpy (which is a very common library for mathematical tasks in Python - https://numpy.org/) and matplotlib (for creating plots - https://matplotlib.org/)."
   ]
  },
  {
   "cell_type": "markdown",
   "metadata": {},
   "source": [
    "### Linear regression\n",
    "\n",
    "Let's start with exploring linear regression modelling that we looked at in the Week 1 lecture."
   ]
  },
  {
   "cell_type": "markdown",
   "metadata": {},
   "source": [
    "#### Section 1"
   ]
  },
  {
   "cell_type": "code",
   "execution_count": null,
   "metadata": {},
   "outputs": [],
   "source": [
    "import numpy\n",
    "\n",
    "random_seed = 1\n",
    "rng =  numpy.random.default_rng(random_seed)\n",
    "training_data_x = rng.random((4, 1))\n",
    "training_labels_y = rng.random((4, 1))\n",
    "\n",
    "print('A randomly generated n x d input data where n=4 and d=1, i.e. 4 data instances each with 1 feature: \\n')\n",
    "print(training_data_x)"
   ]
  },
  {
   "cell_type": "markdown",
   "metadata": {},
   "source": [
    "#### Section 2"
   ]
  },
  {
   "cell_type": "code",
   "execution_count": null,
   "metadata": {},
   "outputs": [],
   "source": [
    "%matplotlib inline\n",
    "\n",
    "from sklearn import linear_model\n",
    "from sklearn.metrics import mean_squared_error\n",
    "import matplotlib.pyplot as plt\n",
    "\n",
    "# Train a linear regression model\n",
    "lr_model = linear_model.LinearRegression()\n",
    "lr_model.fit(training_data_x, training_labels_y)\n",
    "print(\"The weights:\",  lr_model.coef_)\n",
    "print(\"The bias:\",  lr_model.intercept_)\n",
    "\n",
    "# Check the performance of the model on the data used to train it\n",
    "training_pred_y = lr_model.predict(training_data_x)\n",
    "print(\"\\n Mean squared error (training error): %.2f \" % mean_squared_error(training_labels_y, training_pred_y))\n",
    "\n",
    "\n",
    "# Plot data and model\n",
    "plt.scatter(training_data_x, training_labels_y, color=\"blue\")\n",
    "plt.plot(training_data_x, training_pred_y, color=\"black\", linewidth=3)\n",
    "\n",
    "plt.xlabel('x', size=20)\n",
    "plt.ylabel('y', size=20)\n",
    "plt.title('Linear regression model visualization \\n', size=20)\n",
    "\n",
    "plt.show()"
   ]
  },
  {
   "cell_type": "markdown",
   "metadata": {},
   "source": [
    "#### Section 3"
   ]
  },
  {
   "cell_type": "code",
   "execution_count": null,
   "metadata": {},
   "outputs": [],
   "source": [
    "# Check the performance of the model on test data not seen by the model in training\n",
    "random_seed = 1\n",
    "rng =  numpy.random.default_rng(random_seed)\n",
    "test_data_x = rng.random((1, 1))\n",
    "test_labels_y = rng.random((1, 1))\n",
    "test_pred_y = lr_model.predict(test_data_x)\n",
    "print(\"\\n Mean squared error (test error): %.2f \" % mean_squared_error(test_labels_y, test_pred_y))\n",
    "\n",
    "\n",
    "# Plot data and model\n",
    "plt.scatter(training_data_x, training_labels_y, color=\"blue\")\n",
    "plt.scatter(test_data_x, test_labels_y, color=\"red\")\n",
    "plt.plot(training_data_x, training_pred_y, color=\"black\", linewidth=3)\n",
    "\n",
    "plt.xlabel('x', size=20)\n",
    "plt.ylabel('y', size=20)\n",
    "plt.title('Linear regression model visualization \\n', size=20)\n",
    "\n",
    "plt.show()"
   ]
  },
  {
   "cell_type": "markdown",
   "metadata": {},
   "source": [
    "### Try these out yourself\n",
    "\n",
    "#### A. REPRODUCIBILITY\n",
    "Trying running Section 1 without the random seed, i.e. comment out the lines *random_seed = 1* and replace *rng =  numpy.random.default_rng(random_seed)* with *rng =  numpy.random.default_rng()*:\n",
    "\n",
    "```python\n",
    "#random_seed = 1\n",
    "rng =  numpy.random.default_rng()\n",
    "```\n",
    "\n",
    "1. Run it twice and take note of the values of *training_data_x* each time. What do you notice? What does that tell you?\n",
    "2. Now put back the random seed (i.e. as it was originally). Also run twice and take note of the values of *training_data_x* each time. What do you notice? What does that tell you?\n",
    "3. Change the value of the random seed from  1 to any integer value and run again, taking note of the value of *training_data_x*.\n",
    "\n",
    "\n",
    "#### B. REGULARIZATION - RIDGE REGRESSION\n",
    "Instead of the linear regression model (*linear_model.LinearRegression()*) used in Section 2, replace with a ridge regression model(*linear_model.Ridge()*) -  https://scikit-learn.org/stable/modules/generated/sklearn.linear_model.Ridge.html#sklearn.linear_model.Ridge:\n",
    "\n",
    "```python\n",
    "#lr_model = linear_model.LinearRegression()\n",
    "alpha=1.0\n",
    "lr_model = linear_model.Ridge(alpha=alpha)\n",
    "```\n",
    "\n",
    "1. Now run Sections 1 and 2 again. What do you notice?\n",
    "2. Change *alpha* to a new non-negative value and run again. What do you notice?\n",
    "3. Try a different alpha.\n",
    "\n",
    "\n",
    "####  C. REGULARIZATION - LASSO REGRESSION \n",
    "Instead of the linear regression model (*linear_model.LinearRegression()*) used in Section 2, replace with a lasso regression model(*linear_model.Lasso()*) -  https://scikit-learn.org/stable/modules/generated/sklearn.linear_model.Lasso.html#sklearn.linear_model.Lasso:\n",
    "\n",
    "```python\n",
    "#lr_model = linear_model.LinearRegression()\n",
    "alpha=1.0\n",
    "lr_model = linear_model.Lasso(alpha=alpha)\n",
    "```\n",
    "\n",
    "1. Now run Sections 1 and 2 again. What do you notice?\n",
    "2. Change *alpha* to a new non-negative value and run again. What do you notice?\n",
    "3. Try a different alpha.\n"
   ]
  },
  {
   "cell_type": "code",
   "execution_count": null,
   "metadata": {},
   "outputs": [],
   "source": []
  }
 ],
 "metadata": {
  "kernelspec": {
   "display_name": "Python 3",
   "language": "python",
   "name": "python3"
  },
  "language_info": {
   "codemirror_mode": {
    "name": "ipython",
    "version": 3
   },
   "file_extension": ".py",
   "mimetype": "text/x-python",
   "name": "python",
   "nbconvert_exporter": "python",
   "pygments_lexer": "ipython3",
   "version": "3.6.2"
  }
 },
 "nbformat": 4,
 "nbformat_minor": 2
}
